{
 "cells": [
  {
   "cell_type": "raw",
   "metadata": {
    "vscode": {
     "languageId": "raw"
    }
   },
   "source": [
    "---\n",
    "title: \"Assignment 1\"\n",
    "author: \"Yuval Nimrodi\"\n",
    "format: html\n",
    "jupyter: python3\n",
    "---\n"
   ]
  },
  {
   "cell_type": "code",
   "execution_count": 1,
   "metadata": {},
   "outputs": [
    {
     "name": "stdout",
     "output_type": "stream",
     "text": [
      "The square of 55.5 is 3080.25.\n",
      "Spaces Count 5\n",
      "Rounded float 56\n",
      "type of variable <class 'int'>\n"
     ]
    }
   ],
   "source": [
    "# Question 1:\n",
    "\n",
    "# a.\n",
    "var_float = 55.5\n",
    "\n",
    "# b.\n",
    "var_sent = \"The square of {} is {}.\".format(var_float, var_float**2)\n",
    "print(var_sent)\n",
    "\n",
    "# c.\n",
    "space_count = var_sent.count(\" \")\n",
    "print(\"Spaces Count\",space_count)\n",
    "\n",
    "# d.\n",
    "var_int = int(round(var_float))\n",
    "print(\"Rounded float\", var_int)\n",
    "print(\"type of variable\", type(var_int))"
   ]
  },
  {
   "cell_type": "code",
   "execution_count": 2,
   "metadata": {},
   "outputs": [
    {
     "name": "stdout",
     "output_type": "stream",
     "text": [
      "False\n"
     ]
    }
   ],
   "source": [
    "# Question 2\n",
    "\n",
    "# a.\n",
    "first_user_input = bool(int(input(\"Are you a Northwestern student?)(0 for False, 1 for True): \")))\n",
    "second_user_input = bool(int(input(\"Are you a Sophmore?)(0 for False, 1 for True): \")))\n",
    "\n",
    "print((first_user_input and second_user_input) or (not first_user_input and not second_user_input))"
   ]
  },
  {
   "cell_type": "code",
   "execution_count": 3,
   "metadata": {},
   "outputs": [
    {
     "name": "stdout",
     "output_type": "stream",
     "text": [
      "Student Email:\n",
      "None\n",
      "Professor Email:\n",
      "None\n"
     ]
    }
   ],
   "source": [
    "# Question 3\n",
    "\n",
    "try:\n",
    "    email_count = int(input(\"How many addresses would you like to enter?\"))\n",
    "except ValueError:\n",
    "   print(\"Invalid input! Please enter a number.\")\n",
    "\n",
    "professor_email = \"\"\n",
    "student_email = \"\"\n",
    "for i in range(email_count):\n",
    "    email = input(\"Enter your email address here\")\n",
    "    email = email.lower()\n",
    "    email = email.strip()\n",
    "    if \"@u.northwestern.edu\" in email:\n",
    "         student_email = student_email + email + \"\\n\"\n",
    "    \n",
    "    if \"@northwestern.edu\" in email:\n",
    "       professor_email = professor_email + email + \"\\n\"\n",
    "   \n",
    "\n",
    "print(\"Student Email:\")\n",
    "if student_email == \"\":\n",
    "    print(\"None\")\n",
    "else: \n",
    "    print(student_email)\n",
    "    \n",
    "print(\"Professor Email:\")\n",
    "if professor_email == \"\":\n",
    "    print(\"None\")\n",
    "else: \n",
    "    print(professor_email)\n",
    "\n"
   ]
  },
  {
   "cell_type": "code",
   "execution_count": 4,
   "metadata": {},
   "outputs": [
    {
     "name": "stdout",
     "output_type": "stream",
     "text": [
      "Your tip amount is $10.0 and your total bill is $60.0.\n"
     ]
    }
   ],
   "source": [
    "# Question 4\n",
    "\n",
    "meal_price = float(input(\"what is the meal price?\"))\n",
    "tip_precentage = float(input(\"what is ypur tip percenatge?\"))\n",
    "tip_amount = tip_precentage/100 * meal_price\n",
    "total_bil = meal_price + tip_amount\n",
    "print(f\"Your tip amount is ${tip_amount} and your total bill is ${total_bil}.\")"
   ]
  },
  {
   "cell_type": "code",
   "execution_count": 5,
   "metadata": {},
   "outputs": [
    {
     "name": "stdout",
     "output_type": "stream",
     "text": [
      "900 seconds is 15 minutes and 0 seconds.\n"
     ]
    }
   ],
   "source": [
    "# Question 5\n",
    "\n",
    "seconnds_number = int(input(\"write a number of seconds\"))\n",
    "minutes = int(seconnds_number/60)\n",
    "seconds_left = seconnds_number %60\n",
    "\n",
    "print(f'{seconnds_number} seconds is {minutes} minutes and {seconds_left} seconds.')\n"
   ]
  },
  {
   "cell_type": "code",
   "execution_count": 6,
   "metadata": {},
   "outputs": [
    {
     "name": "stdout",
     "output_type": "stream",
     "text": [
      "5 is less than 7\n"
     ]
    }
   ],
   "source": [
    "# Question 6\n",
    "\n",
    "num1 = int(input(\"please enter your first number here\"))\n",
    "num2 = int(input(\"please enter your second number here\"))\n",
    "\n",
    "if num1 > num2:\n",
    "    (print(f'{num1} is greater than {num2}')) \n",
    "if num1 < num2:\n",
    "    print(f'{num1} is less than {num2}')\n",
    "if num1 == num2: \n",
    "    print(f'{num1} is equal to {num2}')"
   ]
  },
  {
   "cell_type": "code",
   "execution_count": 7,
   "metadata": {},
   "outputs": [
    {
     "name": "stdout",
     "output_type": "stream",
     "text": [
      "8 is the smallest number\n",
      "3 is the smallest number\n"
     ]
    }
   ],
   "source": [
    "# Question 7\n",
    "# a.\n",
    "\n",
    "num1 = int(input(\"please enter your first number here\"))\n",
    "num2 = int(input(\"please enter your second number here\"))\n",
    "num3 = int(input(\"please enter your third number here\"))\n",
    "\n",
    "if num1 <= num2 and num1 <= num3:\n",
    "    print(f'{num1} is the smallest number')\n",
    "elif num2 <= num1 and num2 <= num3:\n",
    "    print(f'{num2} is the smallest number')\n",
    "else: \n",
    "    print(f'{num3} is the smallest number')\n",
    "\n",
    "    # b.\n",
    "num1 = int(input(\"please enter your first number here\"))\n",
    "num2 = int(input(\"please enter your second number here\"))\n",
    "num3 = int(input(\"please enter your third number here\"))\n",
    "\n",
    "if num1 < num2:\n",
    "    if num1 < num3:\n",
    "         print(f'{num1} is the smallest number')\n",
    "    else:\n",
    "         print(f'{c} is the smallest number')\n",
    "else:\n",
    "    if num2 < num3:\n",
    "          print(f'{num2} is the smallest number')\n",
    "    else: \n",
    "        print(f'{num3} is the smallest number') \n",
    "\n",
    "\n",
    "\n"
   ]
  },
  {
   "cell_type": "code",
   "execution_count": 8,
   "metadata": {},
   "outputs": [
    {
     "name": "stdout",
     "output_type": "stream",
     "text": [
      "You lost this round, the computer chose Paper and you chose Rock.\n"
     ]
    }
   ],
   "source": [
    "# Question 8\n",
    "\n",
    "# starter code to generate a random choice of rock, paper, scissors\n",
    "import random as rm\n",
    "comp_choice = rm.choice(['rock', 'paper', 'scissors'])\n",
    "\n",
    "\n",
    "# your solution in this code chunk below\n",
    "\n",
    "my_choice = input(\"rock,paper,scissors\")\n",
    "my_choice.lower()\n",
    "\n",
    "if my_choice == \"rock\":\n",
    "    if comp_choice == 'rock':\n",
    "        print(\"tie! Both you and the computer chose Rock.\")\n",
    "    elif comp_choice == 'scissors':\n",
    "        print(\"Congratulations, you won! The computer chose Scissors and you chose Rock.\")\n",
    "    else:\n",
    "        print(\"You lost this round, the computer chose Paper and you chose Rock.\")\n",
    "elif my_choice == \"paper\":\n",
    "    if comp_choice == \"rock\":\n",
    "        print(\"Congratulations, you won! The computer chose Rock and you chose Paper.\")\n",
    "    elif comp_choice == \"scissors\":\n",
    "        print(\"You lost this round, the computer chose Scissors and you chose Paper.\")\n",
    "    else:\n",
    "         print(\"tie! Both you and the computer chose Paper\")\n",
    "elif my_choice == \"scissors\":\n",
    "    if comp_choice == \"rock\":\n",
    "        print(\"You lost this round, The computer chose Rock and you chose Scissors!\")\n",
    "    elif comp_choice == \"paper\":\n",
    "        print(\"Congratulations, you won! the computer chose Paper and you chose Scissors\")   \n",
    "    else:\n",
    "        print(\"tie! Both you and the computer chose Scissors\")\n",
    "else:\n",
    "    print(\"Invalid choice.\")\n"
   ]
  }
 ],
 "metadata": {
  "kernelspec": {
   "display_name": ".venv",
   "language": "python",
   "name": "python3"
  },
  "language_info": {
   "codemirror_mode": {
    "name": "ipython",
    "version": 3
   },
   "file_extension": ".py",
   "mimetype": "text/x-python",
   "name": "python",
   "nbconvert_exporter": "python",
   "pygments_lexer": "ipython3",
   "version": "3.13.2"
  }
 },
 "nbformat": 4,
 "nbformat_minor": 2
}
